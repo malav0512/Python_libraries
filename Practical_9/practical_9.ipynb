{
 "cells": [
  {
   "cell_type": "code",
   "execution_count": 1,
   "metadata": {},
   "outputs": [
    {
     "ename": "TypeError",
     "evalue": "CountVectorizer.__init__() got an unexpected keyword argument 'min_n'",
     "output_type": "error",
     "traceback": [
      "\u001b[1;31m---------------------------------------------------------------------------\u001b[0m",
      "\u001b[1;31mTypeError\u001b[0m                                 Traceback (most recent call last)",
      "Cell \u001b[1;32mIn[1], line 21\u001b[0m\n\u001b[0;32m     19\u001b[0m dataset \u001b[38;5;241m=\u001b[39m fetch_20newsgroups(subset\u001b[38;5;241m=\u001b[39m\u001b[38;5;124m\"\u001b[39m\u001b[38;5;124mtrain\u001b[39m\u001b[38;5;124m\"\u001b[39m, categories\u001b[38;5;241m=\u001b[39mcategories)\n\u001b[0;32m     20\u001b[0m \u001b[38;5;66;03m# Create the pipeline\u001b[39;00m\n\u001b[1;32m---> 21\u001b[0m analyzer \u001b[38;5;241m=\u001b[39m \u001b[43mCountVectorizer\u001b[49m\u001b[43m(\u001b[49m\u001b[43mmin_n\u001b[49m\u001b[38;5;241;43m=\u001b[39;49m\u001b[38;5;241;43m2\u001b[39;49m\u001b[43m,\u001b[49m\u001b[43m \u001b[49m\u001b[43mmax_n\u001b[49m\u001b[38;5;241;43m=\u001b[39;49m\u001b[38;5;241;43m4\u001b[39;49m\u001b[43m)\u001b[49m\n\u001b[0;32m     22\u001b[0m classifier \u001b[38;5;241m=\u001b[39m MultinomialNB()\n\u001b[0;32m     23\u001b[0m pipeline \u001b[38;5;241m=\u001b[39m Pipeline(\n\u001b[0;32m     24\u001b[0m     [\n\u001b[0;32m     25\u001b[0m         (\u001b[38;5;124m\"\u001b[39m\u001b[38;5;124mpreprocessor\u001b[39m\u001b[38;5;124m\"\u001b[39m, custom_preprocessor),\n\u001b[1;32m   (...)\u001b[0m\n\u001b[0;32m     28\u001b[0m     ]\n\u001b[0;32m     29\u001b[0m )\n",
      "\u001b[1;31mTypeError\u001b[0m: CountVectorizer.__init__() got an unexpected keyword argument 'min_n'"
     ]
    }
   ],
   "source": [
    "import numpy as np\n",
    "\n",
    "# CharNGramAnalyzer was removed from python in 2012. Instead use CountVectorizer.\n",
    "from sklearn.feature_extraction.text import CountVectorizer\n",
    "from sklearn.pipeline import Pipeline\n",
    "from sklearn.naive_bayes import MultinomialNB\n",
    "from sklearn.datasets import fetch_20newsgroups\n",
    "from sklearn.model_selection import train_test_split\n",
    "from sklearn.metrics import accuracy_score\n",
    "\n",
    "def custom_preprocessor(text):\n",
    "    text = text.lower()  # Convert to lowercase\n",
    "    text = text.replace(\"'s\", \"\")  # Remove possessives\n",
    "    text = text.replace(\"[^a-zA-Z]\", \" \")  # Remove non-alphabetical characters\n",
    "    return text\n",
    "\n",
    "# Load data\n",
    "categories = [\"comp.graphics\", \"sci.space\"]\n",
    "dataset = fetch_20newsgroups(subset=\"train\", categories=categories)\n",
    "# Create the pipeline\n",
    "analyzer = CountVectorizer(min_n=2, max_n=4)\n",
    "classifier = MultinomialNB()\n",
    "pipeline = Pipeline(\n",
    "    [\n",
    "        (\"preprocessor\", custom_preprocessor),\n",
    "        (\"analyzer\", analyzer),\n",
    "        (\"classifier\", classifier),\n",
    "    ]\n",
    ")\n",
    "# Split data into training and test sets\n",
    "X = dataset.data\n",
    "y = dataset.target\n",
    "X_train, X_test, y_train, y_test = train_test_split(\n",
    "    X, y, test_size=0.2, random_state=42\n",
    ")\n",
    "# Train the pipeline on the training data\n",
    "pipeline.fit(X_train, y_train)\n",
    "# Evaluate performance on held-out test sets\n",
    "predictions = pipeline.predict(X_test)\n",
    "accuracy = accuracy_score(y_test, predictions)\n",
    "print(f\"Accuracy on test set: {accuracy}\")\n"
   ]
  }
 ],
 "metadata": {
  "kernelspec": {
   "display_name": "Python 3",
   "language": "python",
   "name": "python3"
  },
  "language_info": {
   "codemirror_mode": {
    "name": "ipython",
    "version": 3
   },
   "file_extension": ".py",
   "mimetype": "text/x-python",
   "name": "python",
   "nbconvert_exporter": "python",
   "pygments_lexer": "ipython3",
   "version": "3.11.2"
  }
 },
 "nbformat": 4,
 "nbformat_minor": 2
}
