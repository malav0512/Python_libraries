{
 "cells": [
  {
   "cell_type": "code",
   "execution_count": 2,
   "metadata": {},
   "outputs": [
    {
     "name": "stdout",
     "output_type": "stream",
     "text": [
      "            Name  Age  Marks Grade  Gender                      Email\n",
      "0  Alice Johnson   20     85     A  Female  alice.johnson@example.com\n",
      "1      Bob Smith   21     78     B    Male      bob.smith@example.com\n",
      "2    Cathy Brown   19     92    A+  Female    cathy.brown@example.com\n",
      "3   David Wilson   22     65     C    Male   david.wilson@example.com\n",
      "4      Eva Green   20     88     A  Female      eva.green@example.com\n",
      "5    Frank White   23     72     B    Male    frank.white@example.com\n",
      "6      Grace Lee   21     95    A+  Female      grace.lee@example.com\n",
      "7    Henry Adams   19     80     B    Male    henry.adams@example.com\n",
      "8      Ivy Clark   20     90     A  Female      ivy.clark@example.com\n",
      "9    Jack Turner   22     70     C    Male    jack.turner@example.com\n",
      "             Age      Marks\n",
      "count  21.000000  21.000000\n",
      "mean   20.714286  82.428571\n",
      "std     1.270545   9.168268\n",
      "min    19.000000  65.000000\n",
      "25%    20.000000  76.000000\n",
      "50%    21.000000  85.000000\n",
      "75%    22.000000  90.000000\n",
      "max    23.000000  95.000000\n",
      "\n",
      "Display the results of aggregation functions\n",
      "Maximum 95\n",
      "Minimum 65\n",
      "Average 82.42857142857143\n",
      "Median 85.0\n",
      "Number of non-null values 21\n",
      "Standard deviation 9.168268258354075\n",
      "Correlation -0.4954568205214103\n"
     ]
    }
   ],
   "source": [
    "#importing libraries\n",
    "import pandas as pd\n",
    "\n",
    "#load the dataset\n",
    "df=pd.read_csv(r'student.csv')\n",
    "\n",
    "#print few rows of the dataset\n",
    "print(df.head(10))\n",
    "\n",
    "#describe the dataset\n",
    "print(df.describe())\n",
    "\n",
    "# apply aggregation functions on the dataset\n",
    "print(\"\\nDisplay the results of aggregation functions\")\n",
    "print(\"Maximum\",df[\"Marks\"].max())\n",
    "print(\"Minimum\",df[\"Marks\"].min())\n",
    "print(\"Average\",df[\"Marks\"].mean())\n",
    "print(\"Median\",df[\"Marks\"].median())\n",
    "print(\"Number of non-null values\",df[\"Marks\"].count())\n",
    "print(\"Standard deviation\",df[\"Marks\"].std())\n",
    "print(\"Correlation\",df[\"Marks\"].corr(df[\"Age\"]))\n"
   ]
  }
 ],
 "metadata": {
  "kernelspec": {
   "display_name": "Python 3",
   "language": "python",
   "name": "python3"
  },
  "language_info": {
   "codemirror_mode": {
    "name": "ipython",
    "version": 3
   },
   "file_extension": ".py",
   "mimetype": "text/x-python",
   "name": "python",
   "nbconvert_exporter": "python",
   "pygments_lexer": "ipython3",
   "version": "3.11.2"
  }
 },
 "nbformat": 4,
 "nbformat_minor": 2
}
