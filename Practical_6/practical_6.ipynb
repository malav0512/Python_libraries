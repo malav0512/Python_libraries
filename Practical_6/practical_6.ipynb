{
 "cells": [
  {
   "cell_type": "code",
   "execution_count": 7,
   "metadata": {},
   "outputs": [
    {
     "name": "stdout",
     "output_type": "stream",
     "text": [
      "True\n",
      "True\n",
      "False\n",
      "False\n",
      "True\n",
      "[[[[[0. 0. 0. 0. 0.]\n",
      "    [0. 0. 0. 0. 0.]\n",
      "    [0. 0. 0. 0. 0.]\n",
      "    [0. 0. 0. 0. 0.]]\n",
      "\n",
      "   [[0. 0. 0. 0. 0.]\n",
      "    [0. 0. 0. 0. 0.]\n",
      "    [0. 0. 0. 0. 0.]\n",
      "    [0. 0. 0. 0. 0.]]\n",
      "\n",
      "   [[0. 0. 0. 0. 0.]\n",
      "    [0. 0. 0. 0. 0.]\n",
      "    [0. 0. 0. 0. 0.]\n",
      "    [0. 0. 0. 0. 0.]]]\n",
      "\n",
      "\n",
      "  [[[0. 0. 0. 0. 0.]\n",
      "    [0. 0. 0. 0. 0.]\n",
      "    [0. 0. 0. 0. 0.]\n",
      "    [0. 0. 0. 0. 0.]]\n",
      "\n",
      "   [[0. 0. 0. 0. 0.]\n",
      "    [0. 0. 0. 0. 0.]\n",
      "    [0. 0. 0. 0. 0.]\n",
      "    [0. 0. 0. 0. 0.]]\n",
      "\n",
      "   [[0. 0. 0. 0. 0.]\n",
      "    [0. 0. 0. 0. 0.]\n",
      "    [0. 0. 0. 0. 0.]\n",
      "    [0. 0. 0. 0. 0.]]]]]\n",
      "True\n",
      "False\n",
      "False\n",
      "[ True  True False False False]\n",
      "[False False False  True  True]\n",
      "[ True  True  True False False]\n",
      "[False False  True  True  True]\n",
      "[[23  7]\n",
      " [55 19]]\n"
     ]
    }
   ],
   "source": [
    "#import the required libraries\n",
    "import numpy as np\n",
    "\n",
    "#Create a numpy array\n",
    "array=np.array([1,2,3,4,5],dtype=int)\n",
    "\n",
    "#numpy array operations\n",
    "print(array.any())\n",
    "print(array.all())\n",
    "print(np.isnan(array).any())\n",
    "print(np.isinf(array).any())\n",
    "print(np.isfinite(array).all())\n",
    "print(np.zeros(array))\n",
    "print(np.isreal(array).all())\n",
    "print(np.iscomplex(array).all())\n",
    "print(np.isscalar(array))\n",
    "print(np.less(array,3))\n",
    "print(np.greater(array,3))\n",
    "print(np.less_equal(array,3))\n",
    "print(np.greater_equal(array,3))\n",
    "\n",
    "#create an array using linspace() or arrange()\n",
    "array1=np.arange(1,5,1)#Adjusted 4 elements\n",
    "\n",
    "#Reshape the array\n",
    "array1=array1.reshape(2,2)\n",
    "\n",
    "# use randint() to create an array of random integers\n",
    "array2 = np.random.randint(1, 10, 4).reshape(2, 2)  # Reshape to (2, 2)\n",
    "\n",
    "#matrix multiplication\n",
    "result=np.dot(array1,array2)\n",
    "print(result)\n",
    "\n",
    "\n"
   ]
  }
 ],
 "metadata": {
  "kernelspec": {
   "display_name": "Python 3",
   "language": "python",
   "name": "python3"
  },
  "language_info": {
   "codemirror_mode": {
    "name": "ipython",
    "version": 3
   },
   "file_extension": ".py",
   "mimetype": "text/x-python",
   "name": "python",
   "nbconvert_exporter": "python",
   "pygments_lexer": "ipython3",
   "version": "3.11.2"
  }
 },
 "nbformat": 4,
 "nbformat_minor": 2
}
