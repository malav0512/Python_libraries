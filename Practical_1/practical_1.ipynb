{
 "cells": [
  {
   "cell_type": "code",
   "execution_count": 1,
   "metadata": {},
   "outputs": [
    {
     "name": "stdout",
     "output_type": "stream",
     "text": [
      "String Operations: HELLO WORLD! hello world! hello world! ['hello world!']\n",
      "Tuple Operations: 10 (20, 30, 40)\n",
      "List Operations: [1, 2, 3, 5, 6, 7, 8, 9, 10]\n",
      "Dictionary Operations: Alice {'name': 'Alice', 'age': 30} dict_keys(['name', 'age']) dict_values(['Alice', 30]) dict_items([('name', 'Alice'), ('age', 30)]) India\n",
      "Set Operations: {3, 4, 5, 6} {3, 4, 5, 6, 7, 8, 9} {4, 5, 6}\n"
     ]
    }
   ],
   "source": [
    "#Control Structures\n",
    "#String operations \n",
    "string_var=\"hello world!\"\n",
    "#using string methods \n",
    "upper_case=string_var.upper()\n",
    "lower_case=string_var.lower()\n",
    "stripped_string=string_var.strip() #Removes leading and trailing whitespaces\n",
    "split_string=string_var.split(\",\")\n",
    "\n",
    "#Tuple operations\n",
    "tuple_var=(10,20,30,40,50)\n",
    "first_element=tuple_var[0]\n",
    "subset_tuple=tuple_var[1:4]\n",
    "#Tuples are immutable so no modification is possible\n",
    "\n",
    "#List operation\n",
    "list_var=[1,2,3,4,5]\n",
    "list_var.append(6)\n",
    "list_var.insert(0,10)\n",
    "list_var.remove(4)\n",
    "list_var.extend([7,8,9])\n",
    "list_var.sort()\n",
    "#Besides this all the functions of tuples are included\n",
    "\n",
    "#Dictionary operations\n",
    "dict_var = {'name': 'Alice', 'age': 25, 'city': 'New York'}\n",
    "name=dict_var['name']\n",
    "dict_var['age']=30\n",
    "dict_var['country']='India'\n",
    "keys=dict_var.keys()\n",
    "values=dict_var.values()\n",
    "items=dict_var.items()\n",
    "del dict_var['city']\n",
    "popped_value=dict_var.pop('country')\n",
    "\n",
    "#Set operations\n",
    "set={1,2,3,4,5}\n",
    "set.add(6)\n",
    "set.remove(2)\n",
    "pop_value=set.pop()\n",
    "union=set.union({7,8,9})\n",
    "intersection=set.intersection({4,5,6})\n",
    "\n",
    "\n",
    "# Output the results\n",
    "print(\"String Operations:\", upper_case, lower_case, stripped_string, split_string)\n",
    "print(\"Tuple Operations:\", first_element, subset_tuple)\n",
    "print(\"List Operations:\", list_var)\n",
    "print(\"Dictionary Operations:\", name, dict_var, keys, values, items, popped_value)\n",
    "print(\"Set Operations:\", set,union,intersection)"
   ]
  }
 ],
 "metadata": {
  "kernelspec": {
   "display_name": "Python 3",
   "language": "python",
   "name": "python3"
  },
  "language_info": {
   "codemirror_mode": {
    "name": "ipython",
    "version": 3
   },
   "file_extension": ".py",
   "mimetype": "text/x-python",
   "name": "python",
   "nbconvert_exporter": "python",
   "pygments_lexer": "ipython3",
   "version": "3.11.2"
  }
 },
 "nbformat": 4,
 "nbformat_minor": 2
}
